{
 "cells": [
  {
   "cell_type": "markdown",
   "metadata": {},
   "source": [
    "$$MDI505-HW1$$"
   ]
  },
  {
   "cell_type": "markdown",
   "metadata": {},
   "source": [
    "$$Chunyan Yuan$$"
   ]
  },
  {
   "cell_type": "markdown",
   "metadata": {},
   "source": [
    "---"
   ]
  },
  {
   "cell_type": "markdown",
   "metadata": {},
   "source": [
    "Question1\n",
    "Plot ($c_s$ ) vs ($1/M_{at}$) and find the best-fit line.\n"
   ]
  },
  {
   "cell_type": "code",
   "execution_count": 8,
   "metadata": {},
   "outputs": [],
   "source": [
    "import numpy as np\n",
    "import pandas as pd\n",
    "import matplotlib.pyplot as plt\n",
    "%matplotlib inline"
   ]
  },
  {
   "cell_type": "code",
   "execution_count": 9,
   "metadata": {},
   "outputs": [],
   "source": [
    "data = pd.read_csv(\"specific-heat-and-atomic-mass-metals.csv\", index_col=0, header=0)\n",
    "\n",
    "X = 1 / data.iloc[:, 0].values\n",
    "Y = data.iloc[:, 1].values"
   ]
  },
  {
   "cell_type": "code",
   "execution_count": 10,
   "metadata": {},
   "outputs": [],
   "source": [
    "phi = np.mat(np.zeros([data.shape[0], 2]))\n",
    "phi[:, 0] = np.ones(data.shape[0]).reshape(-1, 1)\n",
    "phi[:, 1] = X.reshape(-1, 1)\n",
    "\n",
    "theta_ls = np.linalg.lstsq(phi, Y, rcond=None)[0]"
   ]
  },
  {
   "cell_type": "code",
   "execution_count": 11,
   "metadata": {},
   "outputs": [],
   "source": [
    "x_fit = np.linspace(min(X), max(X), 100)\n",
    "y_fit = theta_ls[0]+theta_ls[1]*x_fit"
   ]
  },
  {
   "cell_type": "code",
   "execution_count": 12,
   "metadata": {},
   "outputs": [
    {
     "data": {
      "image/png": "[encoded data removed]",
      "text/plain": [
       "<Figure size 504x504 with 1 Axes>"
      ]
     },
     "metadata": {
      "needs_background": "light"
     },
     "output_type": "display_data"
    }
   ],
   "source": [
    "plt.figure(figsize=[7, 7])\n",
    "plt.scatter(1/data.iloc[:, 0], data.iloc[:, 1])\n",
    "plt.plot(x_fit, y_fit, color=\"red\")\n",
    "plt.xscale('log')\n",
    "plt.yscale('log')\n",
    "plt.title(r\"$c_s$ vs $1/M_{at}$\")\n",
    "plt.xlabel(r\"$1/M_{at}$\")\n",
    "plt.ylabel(r\"$c_s$\")\n",
    "plt.show()"
   ]
  },
  {
   "cell_type": "markdown",
   "metadata": {},
   "source": [
    "What is the slope of this fitted line?"
   ]
  },
  {
   "cell_type": "code",
   "execution_count": 13,
   "metadata": {},
   "outputs": [
    {
     "name": "stdout",
     "output_type": "stream",
     "text": [
      "[7.41360635e-03 2.50063343e+01]\n"
     ]
    }
   ],
   "source": [
    "print(theta_ls)"
   ]
  },
  {
   "cell_type": "markdown",
   "metadata": {},
   "source": [
    "The slope is 2.5."
   ]
  },
  {
   "cell_type": "markdown",
   "metadata": {},
   "source": [
    "Based on the Dulong–Petit rule, is this value expected?"
   ]
  },
  {
   "cell_type": "markdown",
   "metadata": {},
   "source": [
    "According to Dulong-Petit rule:\n",
    "$$\n",
    "C_m = \\frac{dU}{dT} = 3R = 25 JK^{-1}mol^{-1}\n",
    "$$\n",
    "This value is expected."
   ]
  },
  {
   "cell_type": "markdown",
   "metadata": {},
   "source": [
    "Now consider $Be$, which is a very light metal. It has to $c_s = 1.825 J g^{−1} K^{−1}$  and $ M_{at} = 9.012 g mol^{−1}$. What is its molar heat capacity $C_m$? How does the value for Be fit the rest of the data? "
   ]
  },
  {
   "cell_type": "markdown",
   "metadata": {},
   "source": [
    "\n",
    "$$\n",
    "c_s =\\frac{C_m}{M_{at}}\n",
    "$$\n",
    "\n",
    "$$\n",
    "C_m = c_s \\times M_{at}\n",
    "$$\n",
    "\n",
    "$$\n",
    "= 1.825 J g^{−1} K^{−1} \\times 9.012 g mol^{−1} \n",
    "$$\n",
    "\n",
    "$$\n",
    "= 16.4469 JK^{-1}mol^{-1}\n",
    "$$\n",
    "\n",
    "The molar heat capacity of Be does not fit the rest of the data.\n",
    "\n"
   ]
  },
  {
   "cell_type": "markdown",
   "metadata": {},
   "source": [
    "---"
   ]
  },
  {
   "cell_type": "markdown",
   "metadata": {},
   "source": [
    "Q2. Given the relation $\\rho\\varpropto T_n$, plot ρ against T on a log–log plot and find n."
   ]
  },
  {
   "cell_type": "code",
   "execution_count": 14,
   "metadata": {},
   "outputs": [],
   "source": [
    "import numpy as np\n",
    "import pandas as pd\n",
    "import matplotlib.pyplot as plt"
   ]
  },
  {
   "cell_type": "code",
   "execution_count": 15,
   "metadata": {},
   "outputs": [],
   "source": [
    "data = pd.read_csv(\"Sr-resistivity-vs-temp.txt\", sep=\"\\t\", header=0, index_col=None)\n",
    "# print(data)\n",
    "\n",
    "X_temperature = data.iloc[:, 0].values\n",
    "Y_resistivity = data.iloc[:, 1].values\n",
    "X_temperature_log = np.log10(X_temperature)\n",
    "Y_resistivity_log = np.log10(Y_resistivity)"
   ]
  },
  {
   "cell_type": "code",
   "execution_count": 16,
   "metadata": {},
   "outputs": [
    {
     "name": "stdout",
     "output_type": "stream",
     "text": [
      "theta_ls = [-0.30892241  0.98465151]\n"
     ]
    }
   ],
   "source": [
    "phi = np.mat(np.zeros([data.shape[0], 2]))\n",
    "phi[:, 0] = np.ones(data.shape[0]).reshape(-1, 1)\n",
    "phi[:, 1] = X_temperature_log.reshape(-1, 1)\n",
    "\n",
    "theta_ls = np.linalg.lstsq(phi, Y_resistivity_log, rcond=None)[0]\n",
    "print(\"theta_ls = \" + str(theta_ls))"
   ]
  },
  {
   "cell_type": "code",
   "execution_count": 17,
   "metadata": {},
   "outputs": [],
   "source": [
    "x_fit = np.linspace(min(X_temperature_log), max(X_temperature_log), 100)\n",
    "y_fit = theta_ls[0]+theta_ls[1]*x_fit"
   ]
  },
  {
   "cell_type": "code",
   "execution_count": 18,
   "metadata": {},
   "outputs": [
    {
     "data": {
      "image/png": "[encoded data removed]",
      "text/plain": [
       "<Figure size 360x360 with 1 Axes>"
      ]
     },
     "metadata": {
      "needs_background": "light"
     },
     "output_type": "display_data"
    }
   ],
   "source": [
    "plt.figure(figsize=[5, 5])\n",
    "plt.scatter(X_temperature_log, Y_resistivity_log)\n",
    "plt.plot(x_fit, y_fit, color=\"red\")\n",
    "plt.xscale('log')\n",
    "plt.yscale('log')\n",
    "plt.title(\"Resistivity vs Temperature\")\n",
    "plt.xlabel(r\"$T$\")\n",
    "plt.ylabel(r\"$\\rho$\")\n",
    "plt.show()"
   ]
  },
  {
   "cell_type": "code",
   "execution_count": 19,
   "metadata": {},
   "outputs": [
    {
     "name": "stdout",
     "output_type": "stream",
     "text": [
      "n =0.9846515102944575\n"
     ]
    }
   ],
   "source": [
    "print(\"n =\" + str(theta_ls[1]))"
   ]
  },
  {
   "cell_type": "markdown",
   "metadata": {},
   "source": [
    "n is 0.985"
   ]
  },
  {
   "cell_type": "markdown",
   "metadata": {},
   "source": [
    "---"
   ]
  },
  {
   "cell_type": "markdown",
   "metadata": {},
   "source": [
    "Q3. Given the resistivity of the alloy to be $\\rho_{alloy}$ = CX(1 − X), determine the effective Nordheim coefficient C for Zn dissolved in Cu over this compositional range."
   ]
  },
  {
   "cell_type": "code",
   "execution_count": 20,
   "metadata": {},
   "outputs": [],
   "source": [
    "import numpy as np\n",
    "import pandas as pd\n",
    "import matplotlib.pyplot as plt"
   ]
  },
  {
   "cell_type": "code",
   "execution_count": 21,
   "metadata": {},
   "outputs": [],
   "source": [
    "data = pd.read_csv(\"Cu-Zn-alloy-Nordheim.csv\", header=0, index_col=None)\n",
    "#print(data)\n",
    "\n",
    "X = data.iloc[:, 0].values/100\n",
    "Y = data.iloc[:, 1].values\n",
    "X = X*(1-X)"
   ]
  },
  {
   "cell_type": "code",
   "execution_count": 22,
   "metadata": {},
   "outputs": [
    {
     "name": "stdout",
     "output_type": "stream",
     "text": [
      "theta_ls = [ 18.51543768 225.80726339]\n"
     ]
    }
   ],
   "source": [
    "phi = np.mat(np.zeros([data.shape[0], 2]))\n",
    "phi[:, 0] = np.ones(data.shape[0]).reshape(-1, 1)\n",
    "phi[:, 1] = X.reshape(-1, 1)\n",
    "\n",
    "theta_ls = np.linalg.lstsq(phi, Y, rcond=None)[0]"
   ]
  },
  {
   "cell_type": "code",
   "execution_count": 23,
   "metadata": {},
   "outputs": [],
   "source": [
    "x_fit = np.linspace(min(X), max(X), 100)\n",
    "y_fit = theta_ls[0]+theta_ls[1]*x_fit"
   ]
  },
  {
   "cell_type": "code",
   "execution_count": 24,
   "metadata": {},
   "outputs": [
    {
     "data": {
      "image/png": "[encoded data removed]",
      "text/plain": [
       "<Figure size 360x360 with 1 Axes>"
      ]
     },
     "metadata": {
      "needs_background": "light"
     },
     "output_type": "display_data"
    }
   ],
   "source": [
    "plt.figure(figsize=[5, 5])\n",
    "plt.scatter(X, Y)\n",
    "plt.plot(x_fit, y_fit, color=\"red\")\n",
    "plt.title(\"Resistivity vs percent of Zn\")\n",
    "plt.xlabel(r\"$Zn percent$\")\n",
    "plt.ylabel(r\"$\\rho$\")\n",
    "plt.show()"
   ]
  },
  {
   "cell_type": "code",
   "execution_count": 29,
   "metadata": {},
   "outputs": [
    {
     "name": "stdout",
     "output_type": "stream",
     "text": [
      "Nordheim coefficient C for Zn dissolved in Cu is  225.8073\n"
     ]
    }
   ],
   "source": [
    "print(\"Nordheim coefficient C for Zn dissolved in Cu is \" , round(theta_ls[1], 4))"
   ]
  },
  {
   "cell_type": "markdown",
   "metadata": {},
   "source": [
    "---"
   ]
  },
  {
   "cell_type": "code",
   "execution_count": null,
   "metadata": {},
   "outputs": [],
   "source": []
  }
 ],
 "metadata": {
  "kernelspec": {
   "display_name": "Python 3",
   "language": "python",
   "name": "python3"
  },
  "language_info": {
   "codemirror_mode": {
    "name": "ipython",
    "version": 3
   },
   "file_extension": ".py",
   "mimetype": "text/x-python",
   "name": "python",
   "nbconvert_exporter": "python",
   "pygments_lexer": "ipython3",
   "version": "3.6.5"
  }
 },
 "nbformat": 4,
 "nbformat_minor": 2
}
