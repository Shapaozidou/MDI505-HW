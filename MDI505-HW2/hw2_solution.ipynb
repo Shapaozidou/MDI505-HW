{
 "cells": [
  {
   "cell_type": "markdown",
   "metadata": {},
   "source": [
    "For SC, there are 6 NNs and thus 6 possible jumps.  For FCC, the code would be the same except for their being 12 possible jumps.  The code can be repeated but change the lines in defining delx, dely, delz, and defining randint..... thus they would be delx[1,1,0,-1,-1,1,0,1,0,-1,-1,0], dely[1,0,1,1,0,-1,-1,0,1,-1,0,-1], delz[0,1,1,0,1,0,1,-1,-1,0,-1,-1] and randint for (0,11)."
   ]
  },
  {
   "cell_type": "code",
   "execution_count": 1,
   "metadata": {},
   "outputs": [],
   "source": [
    "import numpy as np\n",
    "import matplotlib.pyplot as plt\n",
    "import random"
   ]
  },
  {
   "cell_type": "code",
   "execution_count": 2,
   "metadata": {},
   "outputs": [],
   "source": [
    "delx=[1, 0, 0, -1, 0, 0]\n",
    "dely=[0, 1, 0, 0, -1, 0]\n",
    "delz=[0, 0, 1, 0, 0, -1]"
   ]
  },
  {
   "cell_type": "code",
   "execution_count": 3,
   "metadata": {},
   "outputs": [],
   "source": [
    "def rwn(nt):\n",
    "    x=np.zeros(nt)\n",
    "    y=np.zeros(nt)\n",
    "    z=np.zeros(nt)\n",
    "    rs2=np.zeros(nt)\n",
    "    for i in range(nt-1):\n",
    "      randind=random.randint(0,5)\n",
    "      x[i+1]=x[i]+delx[randind]\n",
    "      y[i+1]=y[i]+dely[randind]\n",
    "      z[i+1]=z[i]+delz[randind]\n",
    "      rs2[i+1]=pow(x[i+1],2)+pow(y[i+1],2)+pow(z[i+1],2)\n",
    "    return (x,y,z,rs2)\n"
   ]
  },
  {
   "cell_type": "code",
   "execution_count": 4,
   "metadata": {},
   "outputs": [],
   "source": [
    "def arw(nt,nd):\n",
    "    rwa=np.zeros(nt)\n",
    "    sig=np.zeros(nt)\n",
    "    ree=np.zeros(nd)\n",
    "    for j in range(nd-1):\n",
    "        x,y,z,rs2=rwn(nt)\n",
    "        for k in range(nt):\n",
    "            rwa[k]=(rwa[k]+rs2[k])\n",
    "            sig[k]=sig[k]+pow(rs2[k],2)\n",
    "        ree[j]=pow(pow(x[nt-1],2)+pow(y[nt-1],2)+pow(z[nt-1],2),0.5)\n",
    "    for j in range(nt):\n",
    "        rwa[j]=rwa[j]/nd\n",
    "        sig[j]=(sig[j]/nd-pow(rwa[j],2))/pow(rwa[j],2)\n",
    "    return (rwa,sig,ree)"
   ]
  },
  {
   "cell_type": "code",
   "execution_count": 5,
   "metadata": {},
   "outputs": [
    {
     "name": "stderr",
     "output_type": "stream",
     "text": [
      "C:\\Users\\Scott\\Anaconda3\\lib\\site-packages\\ipykernel_launcher.py:13: RuntimeWarning: invalid value encountered in double_scalars\n",
      "  del sys.path[0]\n"
     ]
    },
    {
     "data": {
      "image/png": "[encoded data removed]",
      "text/plain": [
       "<Figure size 360x360 with 3 Axes>"
      ]
     },
     "metadata": {
      "needs_background": "light"
     },
     "output_type": "display_data"
    }
   ],
   "source": [
    "rwa,sig,ree = arw(100, 5000)\n",
    "\n",
    "plt.figure(figsize=[5, 5])\n",
    "plt.subplot(311)\n",
    "plt.plot(rwa)\n",
    "plt.xlabel('Number of Jumps')\n",
    "plt.ylabel('rwa')\n",
    "plt.subplot(312)\n",
    "plt.plot(sig)\n",
    "plt.xlabel('Number of Jumps')\n",
    "plt.ylabel('Deviation of rwa')\n",
    "plt.subplot(313)\n",
    "plt.hist(ree, bins=20)\n",
    "plt.xlabel('Number of Trials')\n",
    "plt.ylabel('ree')\n",
    "plt.show()"
   ]
  },
  {
   "cell_type": "code",
   "execution_count": 1,
   "metadata": {},
   "outputs": [
    {
     "name": "stdout",
     "output_type": "stream",
     "text": [
      "9\n"
     ]
    }
   ],
   "source": [
    "print(pow(3,2))"
   ]
  },
  {
   "cell_type": "code",
   "execution_count": null,
   "metadata": {},
   "outputs": [],
   "source": []
  }
 ],
 "metadata": {
  "kernelspec": {
   "display_name": "Python 3",
   "language": "python",
   "name": "python3"
  },
  "language_info": {
   "codemirror_mode": {
    "name": "ipython",
    "version": 3
   },
   "file_extension": ".py",
   "mimetype": "text/x-python",
   "name": "python",
   "nbconvert_exporter": "python",
   "pygments_lexer": "ipython3",
   "version": "3.6.5"
  }
 },
 "nbformat": 4,
 "nbformat_minor": 2
}
