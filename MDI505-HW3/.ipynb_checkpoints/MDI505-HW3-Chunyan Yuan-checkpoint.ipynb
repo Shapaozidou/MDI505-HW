{
 "cells": [
  {
   "cell_type": "markdown",
   "metadata": {},
   "source": [
    "# $$MDI505-HW3$$"
   ]
  },
  {
   "cell_type": "markdown",
   "metadata": {},
   "source": [
    "$$Chunyan Yuan$$"
   ]
  },
  {
   "cell_type": "code",
   "execution_count": 1,
   "metadata": {},
   "outputs": [],
   "source": [
    "import numpy as np\n",
    "import matplotlib.pyplot as plt\n",
    "%matplotlib inline"
   ]
  },
  {
   "cell_type": "code",
   "execution_count": 2,
   "metadata": {},
   "outputs": [],
   "source": [
    "def fccsum1(a, nc, rc):\n",
    "    n = 4\n",
    "    r = np.array([[0, 0, 0], [0.5, 0.5, 0], [0, 0.5, 0.5], [0.5, 0, 0.5]])\n",
    "    ucell = 0\n",
    "\n",
    "    for k in range(-nc, nc):\n",
    "        for l in range(-nc, nc):\n",
    "            for m in range(-nc, nc):\n",
    "                for i in range(n):\n",
    "                    for j in range(n):\n",
    "                        dist = a * np.sqrt((k+r[j, 0] - r[i, 0])**2 + (l+r[j, 1] - r[i, 1])**2 + (m+r[j, 2]-r[i, 2])**2)\n",
    "                        if dist > 0 and dist <= rc:\n",
    "                            u = 2 * (1 / dist ** 12 - 1 / dist ** 6)\n",
    "                        else:\n",
    "                            u = 0\n",
    "                        ucell = ucell + u\n",
    "\n",
    "    ucell = ucell / n\n",
    "\n",
    "    return ucell"
   ]
  },
  {
   "cell_type": "code",
   "execution_count": 3,
   "metadata": {},
   "outputs": [],
   "source": [
    "a = np.linspace(1, 2, 100)\n",
    "rc = np.linspace(1, 6, 20)\n",
    "u0 = []\n",
    "\n",
    "for cutoff in rc:\n",
    "    u = []\n",
    "    for i in a:\n",
    "        u.append(fccsum1(i, int(cutoff*2), cutoff))\n",
    "    u0.append(min(u))\n"
   ]
  },
  {
   "cell_type": "markdown",
   "metadata": {},
   "source": [
    " ### Plot equilibrium energy corresponding to different cutoff distance for fcc material"
   ]
  },
  {
   "cell_type": "code",
   "execution_count": 4,
   "metadata": {},
   "outputs": [
    {
     "data": {
      "image/png": "[encoded data removed]",
      "text/plain": [
       "<Figure size 432x288 with 1 Axes>"
      ]
     },
     "metadata": {
      "needs_background": "light"
     },
     "output_type": "display_data"
    }
   ],
   "source": [
    "plt.figure()\n",
    "plt.plot(rc, u0)\n",
    "plt.xlabel('cutoff distance')\n",
    "plt.ylabel('equilibrium energy')\n",
    "plt.title('equilibrium energy vs cutoff distance(fcc)')\n",
    "plt.show()"
   ]
  },
  {
   "cell_type": "code",
   "execution_count": 5,
   "metadata": {},
   "outputs": [],
   "source": [
    "def bccsum1(a, nc, rc):\n",
    "    n = 2\n",
    "    r = np.array([[0, 0, 0], [0.5, 0.5, 0.5]])\n",
    "    ucell_bcc = 0\n",
    "\n",
    "    for k in range(-nc, nc):\n",
    "        for l in range(-nc, nc):\n",
    "            for m in range(-nc, nc):\n",
    "                for i in range(n):\n",
    "                    for j in range(n):\n",
    "                        dist = a * np.sqrt((k + r[j, 0] - r[i, 0])**2 + (l + r[j, 1] - r[i, 1]) ** 2 + (m + r[j, 2] - r[i, 2])**2)\n",
    "\n",
    "                        if dist > 0 and dist <= rc:\n",
    "                            u = 2 * (1 / dist ** 12 - 1 / dist ** 6)\n",
    "                        else:\n",
    "                            u = 0\n",
    "                        ucell_bcc = ucell_bcc + u\n",
    "\n",
    "    ucell_bcc = ucell_bcc / n\n",
    "\n",
    "    return ucell_bcc"
   ]
  },
  {
   "cell_type": "code",
   "execution_count": 6,
   "metadata": {},
   "outputs": [],
   "source": [
    "a = np.linspace(1, 2, 100)\n",
    "rc = np.linspace(1, 6, 20)\n",
    "u0 = []\n",
    "\n",
    "for cutoff in rc:\n",
    "    u = []\n",
    "    for i in a:\n",
    "        u.append(bccsum1(i, int(cutoff*2), cutoff))\n",
    "    u0.append(min(u))"
   ]
  },
  {
   "cell_type": "markdown",
   "metadata": {},
   "source": [
    " ### Plot equilibrium energy corresponding to different cutoff distance for bcc material"
   ]
  },
  {
   "cell_type": "code",
   "execution_count": 7,
   "metadata": {},
   "outputs": [
    {
     "data": {
      "image/png": "[encoded data removed]",
      "text/plain": [
       "<Figure size 432x288 with 1 Axes>"
      ]
     },
     "metadata": {
      "needs_background": "light"
     },
     "output_type": "display_data"
    }
   ],
   "source": [
    "plt.figure()\n",
    "plt.plot(rc, u0)\n",
    "plt.xlabel('cutoff distance')\n",
    "plt.ylabel('equilibrium energy')\n",
    "plt.title('equilibrium energy vs cutoff distance(bcc)')\n",
    "plt.show()"
   ]
  },
  {
   "cell_type": "markdown",
   "metadata": {},
   "source": [
    "### Compare energetics for both bcc and fcc at the equilibrium as a function of cutoff distance."
   ]
  },
  {
   "cell_type": "markdown",
   "metadata": {},
   "source": [
    "**For both fcc and bcc structure, the equilibrium energy will converge as the cutoff distance increases, and they converge at the similar cutoff distance.**"
   ]
  },
  {
   "cell_type": "code",
   "execution_count": null,
   "metadata": {},
   "outputs": [],
   "source": []
  }
 ],
 "metadata": {
  "kernelspec": {
   "display_name": "Python 3",
   "language": "python",
   "name": "python3"
  },
  "language_info": {
   "codemirror_mode": {
    "name": "ipython",
    "version": 3
   },
   "file_extension": ".py",
   "mimetype": "text/x-python",
   "name": "python",
   "nbconvert_exporter": "python",
   "pygments_lexer": "ipython3",
   "version": "3.6.5"
  }
 },
 "nbformat": 4,
 "nbformat_minor": 2
}
