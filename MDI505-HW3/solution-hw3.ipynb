{
 "cells": [
  {
   "cell_type": "code",
   "execution_count": 77,
   "metadata": {},
   "outputs": [],
   "source": [
    "import numpy as np\n",
    "import math\n",
    "import matplotlib.pyplot as plt"
   ]
  },
  {
   "cell_type": "code",
   "execution_count": 81,
   "metadata": {},
   "outputs": [],
   "source": [
    "def bcc(a, nc, rc):\n",
    "    n=2\n",
    "    r= np.array([[0, 0, 0],[0.5, 0.5, 0.5]])\n",
    "    ucell = np.zeros(len(a))\n",
    "    dist = np.zeros(len(a))\n",
    "    u = np.zeros (len(a))\n",
    "    for h in range (0, len(a)-1):\n",
    "            for k in range (-nc, nc):\n",
    "                for l in range (-nc,nc):\n",
    "                    for m in range (-nc, nc):\n",
    "                        for i in range (0, n):\n",
    "                            for j in range (0, n):\n",
    "                                   dist[h] = a[h]*np.sqrt(((k + r[j,0] - r[i,0])**2) + ((l + r[j,1] - r[i,1])**2) +((m + r[j,2]-r[i,2])**2))\n",
    "                            if 0<dist[h]<rc: \n",
    "                        \n",
    "                                u[h] = 2*((1/(dist[h]**12))-(1/dist[h]**6))\n",
    "                            \n",
    "                            else:\n",
    "                                u[h] = 0\n",
    "                                \n",
    "                            ucell[h] = ucell[h] + u[h]\n",
    "                        \n",
    "    ucell[h] = ucell[h]/n\n",
    "    \n",
    "    return ucell\n",
    "\n",
    "    "
   ]
  },
  {
   "cell_type": "code",
   "execution_count": 82,
   "metadata": {
    "scrolled": true
   },
   "outputs": [
    {
     "data": {
      "text/plain": [
       "Text(0, 0.5, 'u')"
      ]
     },
     "execution_count": 82,
     "metadata": {},
     "output_type": "execute_result"
    },
    {
     "data": {
      "image/png": "[encoded data removed]",
      "text/plain": [
       "<Figure size 432x288 with 1 Axes>"
      ]
     },
     "metadata": {
      "needs_background": "light"
     },
     "output_type": "display_data"
    }
   ],
   "source": [
    "a = np.linspace(1.1,1.5)\n",
    "plt.plot(a,bcc(a,4,5))\n",
    "plt.ylim (-10,0)\n",
    "plt.xlabel('a')\n",
    "plt.ylabel('u')\n"
   ]
  },
  {
   "cell_type": "code",
   "execution_count": null,
   "metadata": {},
   "outputs": [],
   "source": []
  }
 ],
 "metadata": {
  "kernelspec": {
   "display_name": "Python 3",
   "language": "python",
   "name": "python3"
  },
  "language_info": {
   "codemirror_mode": {
    "name": "ipython",
    "version": 3
   },
   "file_extension": ".py",
   "mimetype": "text/x-python",
   "name": "python",
   "nbconvert_exporter": "python",
   "pygments_lexer": "ipython3",
   "version": "3.7.1"
  }
 },
 "nbformat": 4,
 "nbformat_minor": 2
}
