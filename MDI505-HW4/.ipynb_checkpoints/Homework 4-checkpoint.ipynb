{
 "cells": [
  {
   "cell_type": "markdown",
   "metadata": {},
   "source": [
    "# Homework 4"
   ]
  },
  {
   "cell_type": "markdown",
   "metadata": {},
   "source": [
    "Follow the example in this notebook. The assignment is at the bottom."
   ]
  },
  {
   "cell_type": "markdown",
   "metadata": {},
   "source": [
    "First we import the libraries we'll need."
   ]
  },
  {
   "cell_type": "code",
   "execution_count": 36,
   "metadata": {},
   "outputs": [],
   "source": [
    "import numpy as np # For almost anything numerical\n",
    "import pandas as pd  # To read data\n",
    "import matplotlib.pyplot as plt # for plotting\n",
    "import seaborn as sns # statistical visualization\n",
    "%matplotlib inline"
   ]
  },
  {
   "cell_type": "markdown",
   "metadata": {},
   "source": [
    "Next, set the file location."
   ]
  },
  {
   "cell_type": "code",
   "execution_count": 37,
   "metadata": {},
   "outputs": [],
   "source": [
    "myfile ='http://www.buffalo.edu/~erikeina/MDI505/elementdata.csv'"
   ]
  },
  {
   "cell_type": "markdown",
   "metadata": {},
   "source": [
    "Now we read the csv file."
   ]
  },
  {
   "cell_type": "code",
   "execution_count": 38,
   "metadata": {},
   "outputs": [],
   "source": [
    "df = pd.read_csv(myfile)"
   ]
  },
  {
   "cell_type": "markdown",
   "metadata": {},
   "source": [
    "Take a look at the first few lines to get an idea of what we're working with. "
   ]
  },
  {
   "cell_type": "code",
   "execution_count": 39,
   "metadata": {},
   "outputs": [
    {
     "data": {
      "text/html": [
       "<div>\n",
       "<style scoped>\n",
       "    .dataframe tbody tr th:only-of-type {\n",
       "        vertical-align: middle;\n",
       "    }\n",
       "\n",
       "    .dataframe tbody tr th {\n",
       "        vertical-align: top;\n",
       "    }\n",
       "\n",
       "    .dataframe thead th {\n",
       "        text-align: right;\n",
       "    }\n",
       "</style>\n",
       "<table border=\"1\" class=\"dataframe\">\n",
       "  <thead>\n",
       "    <tr style=\"text-align: right;\">\n",
       "      <th></th>\n",
       "      <th>Atomic Number</th>\n",
       "      <th>Symbol</th>\n",
       "      <th>Period</th>\n",
       "      <th>Group</th>\n",
       "      <th>Electronegativity</th>\n",
       "      <th>Calculated Radius</th>\n",
       "      <th>First Ionization</th>\n",
       "      <th>Core Configuration</th>\n",
       "      <th>Heat of Vapor</th>\n",
       "      <th>Covalent Radius</th>\n",
       "      <th>...</th>\n",
       "      <th>Second Ionization</th>\n",
       "      <th>Mass</th>\n",
       "      <th>Van der Waals Radius</th>\n",
       "      <th>Specific Heat</th>\n",
       "      <th>Thermal Cond.</th>\n",
       "      <th>Third Ionization</th>\n",
       "      <th>Series</th>\n",
       "      <th>Electron Affinity</th>\n",
       "      <th>Mohs Hardness</th>\n",
       "      <th>Empirical Radius</th>\n",
       "    </tr>\n",
       "  </thead>\n",
       "  <tbody>\n",
       "    <tr>\n",
       "      <th>0</th>\n",
       "      <td>1</td>\n",
       "      <td>H</td>\n",
       "      <td>1</td>\n",
       "      <td>1</td>\n",
       "      <td>2.2</td>\n",
       "      <td>53</td>\n",
       "      <td>1312</td>\n",
       "      <td>1s1</td>\n",
       "      <td>0.452</td>\n",
       "      <td>37</td>\n",
       "      <td>...</td>\n",
       "      <td>Unknown</td>\n",
       "      <td>1.007940</td>\n",
       "      <td>120</td>\n",
       "      <td>14300</td>\n",
       "      <td>0.1805</td>\n",
       "      <td>Unknown</td>\n",
       "      <td>Nonmetal</td>\n",
       "      <td>72.8</td>\n",
       "      <td>Unknown</td>\n",
       "      <td>25</td>\n",
       "    </tr>\n",
       "    <tr>\n",
       "      <th>1</th>\n",
       "      <td>2</td>\n",
       "      <td>He</td>\n",
       "      <td>1</td>\n",
       "      <td>18</td>\n",
       "      <td>Unknown</td>\n",
       "      <td>31</td>\n",
       "      <td>2372.3</td>\n",
       "      <td>1s2</td>\n",
       "      <td>0.083</td>\n",
       "      <td>32</td>\n",
       "      <td>...</td>\n",
       "      <td>5250.5</td>\n",
       "      <td>4.002602</td>\n",
       "      <td>140</td>\n",
       "      <td>5193.1</td>\n",
       "      <td>0.1513</td>\n",
       "      <td>Unknown</td>\n",
       "      <td>Noble Gas</td>\n",
       "      <td>0</td>\n",
       "      <td>Unknown</td>\n",
       "      <td>Unknown</td>\n",
       "    </tr>\n",
       "    <tr>\n",
       "      <th>2</th>\n",
       "      <td>3</td>\n",
       "      <td>Li</td>\n",
       "      <td>2</td>\n",
       "      <td>1</td>\n",
       "      <td>0.98</td>\n",
       "      <td>167</td>\n",
       "      <td>520.2</td>\n",
       "      <td>[He] 2s1</td>\n",
       "      <td>147</td>\n",
       "      <td>134</td>\n",
       "      <td>...</td>\n",
       "      <td>7298.1</td>\n",
       "      <td>6.941000</td>\n",
       "      <td>182</td>\n",
       "      <td>3570</td>\n",
       "      <td>85</td>\n",
       "      <td>11815</td>\n",
       "      <td>Alkali Metal</td>\n",
       "      <td>59.6</td>\n",
       "      <td>0.6</td>\n",
       "      <td>145</td>\n",
       "    </tr>\n",
       "    <tr>\n",
       "      <th>3</th>\n",
       "      <td>4</td>\n",
       "      <td>Be</td>\n",
       "      <td>2</td>\n",
       "      <td>2</td>\n",
       "      <td>1.57</td>\n",
       "      <td>112</td>\n",
       "      <td>899.5</td>\n",
       "      <td>[He] 2s2</td>\n",
       "      <td>297</td>\n",
       "      <td>90</td>\n",
       "      <td>...</td>\n",
       "      <td>1757.1</td>\n",
       "      <td>9.012182</td>\n",
       "      <td>Unknown</td>\n",
       "      <td>1820</td>\n",
       "      <td>190</td>\n",
       "      <td>14848.7</td>\n",
       "      <td>Alkaline Earth Metal</td>\n",
       "      <td>0</td>\n",
       "      <td>5.5</td>\n",
       "      <td>105</td>\n",
       "    </tr>\n",
       "    <tr>\n",
       "      <th>4</th>\n",
       "      <td>5</td>\n",
       "      <td>B</td>\n",
       "      <td>2</td>\n",
       "      <td>13</td>\n",
       "      <td>2.04</td>\n",
       "      <td>87</td>\n",
       "      <td>800.6</td>\n",
       "      <td>[He] 2s2 2p1</td>\n",
       "      <td>507</td>\n",
       "      <td>82</td>\n",
       "      <td>...</td>\n",
       "      <td>2427.1</td>\n",
       "      <td>10.811000</td>\n",
       "      <td>Unknown</td>\n",
       "      <td>1030</td>\n",
       "      <td>27</td>\n",
       "      <td>3659.7</td>\n",
       "      <td>Metalloid</td>\n",
       "      <td>26.7</td>\n",
       "      <td>9.3</td>\n",
       "      <td>85</td>\n",
       "    </tr>\n",
       "    <tr>\n",
       "      <th>5</th>\n",
       "      <td>6</td>\n",
       "      <td>C</td>\n",
       "      <td>2</td>\n",
       "      <td>14</td>\n",
       "      <td>2.55</td>\n",
       "      <td>67</td>\n",
       "      <td>1086.5</td>\n",
       "      <td>[He] 2s2 2p2</td>\n",
       "      <td>715</td>\n",
       "      <td>77</td>\n",
       "      <td>...</td>\n",
       "      <td>2352.6</td>\n",
       "      <td>12.010700</td>\n",
       "      <td>170</td>\n",
       "      <td>710</td>\n",
       "      <td>140</td>\n",
       "      <td>4620.5</td>\n",
       "      <td>Nonmetal</td>\n",
       "      <td>153.9</td>\n",
       "      <td>0.5</td>\n",
       "      <td>70</td>\n",
       "    </tr>\n",
       "    <tr>\n",
       "      <th>6</th>\n",
       "      <td>7</td>\n",
       "      <td>N</td>\n",
       "      <td>2</td>\n",
       "      <td>15</td>\n",
       "      <td>3.04</td>\n",
       "      <td>56</td>\n",
       "      <td>1402.3</td>\n",
       "      <td>[He] 2s2 2p3</td>\n",
       "      <td>2.79</td>\n",
       "      <td>75</td>\n",
       "      <td>...</td>\n",
       "      <td>2856</td>\n",
       "      <td>14.006700</td>\n",
       "      <td>155</td>\n",
       "      <td>1040</td>\n",
       "      <td>0.02583</td>\n",
       "      <td>4578.1</td>\n",
       "      <td>Nonmetal</td>\n",
       "      <td>7</td>\n",
       "      <td>Unknown</td>\n",
       "      <td>65</td>\n",
       "    </tr>\n",
       "    <tr>\n",
       "      <th>7</th>\n",
       "      <td>8</td>\n",
       "      <td>O</td>\n",
       "      <td>2</td>\n",
       "      <td>16</td>\n",
       "      <td>3.44</td>\n",
       "      <td>48</td>\n",
       "      <td>1313.9</td>\n",
       "      <td>[He] 2s2 2p4</td>\n",
       "      <td>3.41</td>\n",
       "      <td>73</td>\n",
       "      <td>...</td>\n",
       "      <td>3388.3</td>\n",
       "      <td>15.999400</td>\n",
       "      <td>152</td>\n",
       "      <td>919</td>\n",
       "      <td>0.02658</td>\n",
       "      <td>5300.5</td>\n",
       "      <td>Nonmetal</td>\n",
       "      <td>141</td>\n",
       "      <td>Unknown</td>\n",
       "      <td>60</td>\n",
       "    </tr>\n",
       "    <tr>\n",
       "      <th>8</th>\n",
       "      <td>9</td>\n",
       "      <td>F</td>\n",
       "      <td>2</td>\n",
       "      <td>17</td>\n",
       "      <td>3.98</td>\n",
       "      <td>42</td>\n",
       "      <td>1681</td>\n",
       "      <td>[He] 2s2 2p5</td>\n",
       "      <td>3.27</td>\n",
       "      <td>71</td>\n",
       "      <td>...</td>\n",
       "      <td>3374.2</td>\n",
       "      <td>18.998403</td>\n",
       "      <td>147</td>\n",
       "      <td>824</td>\n",
       "      <td>0.0277</td>\n",
       "      <td>6050.4</td>\n",
       "      <td>Halogen</td>\n",
       "      <td>328</td>\n",
       "      <td>Unknown</td>\n",
       "      <td>50</td>\n",
       "    </tr>\n",
       "    <tr>\n",
       "      <th>9</th>\n",
       "      <td>10</td>\n",
       "      <td>Ne</td>\n",
       "      <td>2</td>\n",
       "      <td>18</td>\n",
       "      <td>Unknown</td>\n",
       "      <td>38</td>\n",
       "      <td>2080.7</td>\n",
       "      <td>[He] 2s2 2p6</td>\n",
       "      <td>1.75</td>\n",
       "      <td>69</td>\n",
       "      <td>...</td>\n",
       "      <td>3952.3</td>\n",
       "      <td>20.179700</td>\n",
       "      <td>154</td>\n",
       "      <td>1030</td>\n",
       "      <td>0.0491</td>\n",
       "      <td>6122</td>\n",
       "      <td>Noble Gas</td>\n",
       "      <td>0</td>\n",
       "      <td>Unknown</td>\n",
       "      <td>Unknown</td>\n",
       "    </tr>\n",
       "  </tbody>\n",
       "</table>\n",
       "<p>10 rows × 31 columns</p>\n",
       "</div>"
      ],
      "text/plain": [
       "   Atomic Number Symbol  Period  Group Electronegativity Calculated Radius  \\\n",
       "0              1      H       1      1               2.2                53   \n",
       "1              2     He       1     18           Unknown                31   \n",
       "2              3     Li       2      1              0.98               167   \n",
       "3              4     Be       2      2              1.57               112   \n",
       "4              5      B       2     13              2.04                87   \n",
       "5              6      C       2     14              2.55                67   \n",
       "6              7      N       2     15              3.04                56   \n",
       "7              8      O       2     16              3.44                48   \n",
       "8              9      F       2     17              3.98                42   \n",
       "9             10     Ne       2     18           Unknown                38   \n",
       "\n",
       "  First Ionization Core Configuration Heat of Vapor Covalent Radius  \\\n",
       "0             1312                1s1         0.452              37   \n",
       "1           2372.3                1s2         0.083              32   \n",
       "2            520.2           [He] 2s1           147             134   \n",
       "3            899.5           [He] 2s2           297              90   \n",
       "4            800.6       [He] 2s2 2p1           507              82   \n",
       "5           1086.5       [He] 2s2 2p2           715              77   \n",
       "6           1402.3       [He] 2s2 2p3          2.79              75   \n",
       "7           1313.9       [He] 2s2 2p4          3.41              73   \n",
       "8             1681       [He] 2s2 2p5          3.27              71   \n",
       "9           2080.7       [He] 2s2 2p6          1.75              69   \n",
       "\n",
       "        ...        Second Ionization       Mass Van der Waals Radius  \\\n",
       "0       ...                  Unknown   1.007940                  120   \n",
       "1       ...                   5250.5   4.002602                  140   \n",
       "2       ...                   7298.1   6.941000                  182   \n",
       "3       ...                   1757.1   9.012182              Unknown   \n",
       "4       ...                   2427.1  10.811000              Unknown   \n",
       "5       ...                   2352.6  12.010700                  170   \n",
       "6       ...                     2856  14.006700                  155   \n",
       "7       ...                   3388.3  15.999400                  152   \n",
       "8       ...                   3374.2  18.998403                  147   \n",
       "9       ...                   3952.3  20.179700                  154   \n",
       "\n",
       "  Specific Heat Thermal Cond. Third Ionization                Series  \\\n",
       "0         14300        0.1805          Unknown              Nonmetal   \n",
       "1        5193.1        0.1513          Unknown             Noble Gas   \n",
       "2          3570            85            11815          Alkali Metal   \n",
       "3          1820           190          14848.7  Alkaline Earth Metal   \n",
       "4          1030            27           3659.7             Metalloid   \n",
       "5           710           140           4620.5              Nonmetal   \n",
       "6          1040       0.02583           4578.1              Nonmetal   \n",
       "7           919       0.02658           5300.5              Nonmetal   \n",
       "8           824        0.0277           6050.4               Halogen   \n",
       "9          1030        0.0491             6122             Noble Gas   \n",
       "\n",
       "  Electron Affinity Mohs Hardness Empirical Radius  \n",
       "0              72.8       Unknown               25  \n",
       "1                 0       Unknown          Unknown  \n",
       "2              59.6           0.6              145  \n",
       "3                 0           5.5              105  \n",
       "4              26.7           9.3               85  \n",
       "5             153.9           0.5               70  \n",
       "6                 7       Unknown               65  \n",
       "7               141       Unknown               60  \n",
       "8               328       Unknown               50  \n",
       "9                 0       Unknown          Unknown  \n",
       "\n",
       "[10 rows x 31 columns]"
      ]
     },
     "execution_count": 39,
     "metadata": {},
     "output_type": "execute_result"
    }
   ],
   "source": [
    "df.head(10)"
   ]
  },
  {
   "cell_type": "markdown",
   "metadata": {},
   "source": [
    "Ok, there's a lot here. Let's get some more info."
   ]
  },
  {
   "cell_type": "code",
   "execution_count": 40,
   "metadata": {},
   "outputs": [
    {
     "name": "stdout",
     "output_type": "stream",
     "text": [
      "<class 'pandas.core.frame.DataFrame'>\n",
      "RangeIndex: 118 entries, 0 to 117\n",
      "Data columns (total 31 columns):\n",
      "Atomic Number           118 non-null int64\n",
      "Symbol                  118 non-null object\n",
      "Period                  118 non-null int64\n",
      "Group                   118 non-null int64\n",
      "Electronegativity       118 non-null object\n",
      "Calculated Radius       118 non-null object\n",
      "First Ionization        118 non-null object\n",
      "Core Configuration      118 non-null object\n",
      "Heat of Vapor           118 non-null object\n",
      "Covalent Radius         118 non-null object\n",
      "Heat of Fusion          118 non-null object\n",
      "Bulk Modulus            118 non-null object\n",
      "Boiling Point           118 non-null object\n",
      "Brinell Hardness        118 non-null object\n",
      "Melting Point           118 non-null object\n",
      "STP Density             118 non-null object\n",
      "Young Modulus           118 non-null object\n",
      "Shear Modulus           118 non-null object\n",
      "Vickers Hardness        118 non-null object\n",
      "Name                    118 non-null object\n",
      "Common Ions             46 non-null object\n",
      "Second Ionization       118 non-null object\n",
      "Mass                    118 non-null float64\n",
      "Van der Waals Radius    118 non-null object\n",
      "Specific Heat           118 non-null object\n",
      "Thermal Cond.           118 non-null object\n",
      "Third Ionization        118 non-null object\n",
      "Series                  118 non-null object\n",
      "Electron Affinity       118 non-null object\n",
      "Mohs Hardness           118 non-null object\n",
      "Empirical Radius        118 non-null object\n",
      "dtypes: float64(1), int64(3), object(27)\n",
      "memory usage: 28.7+ KB\n"
     ]
    }
   ],
   "source": [
    "df.info()"
   ]
  },
  {
   "cell_type": "markdown",
   "metadata": {},
   "source": [
    "Most of the columns are classified as \"objects\" instead of numerical values. In the head we saw many values listed as \"Unknown\". Let's replace these with NaN (not a number) to make it easier to process."
   ]
  },
  {
   "cell_type": "code",
   "execution_count": 41,
   "metadata": {},
   "outputs": [],
   "source": [
    "df = df.replace('Unknown', np.nan)"
   ]
  },
  {
   "cell_type": "markdown",
   "metadata": {},
   "source": [
    "Now we can convert the columns to numeric. However, not all columns should be numeric (like \"Symbol\"), so let's ignore any errors. The alternative would be to force the values to become numeric (using `errors='coerce'`, which we don't want to do."
   ]
  },
  {
   "cell_type": "code",
   "execution_count": 42,
   "metadata": {},
   "outputs": [],
   "source": [
    "df = df.apply(pd.to_numeric, errors='ignore')"
   ]
  },
  {
   "cell_type": "markdown",
   "metadata": {},
   "source": [
    "Next, let's see how the entries are related by computing a correlation matrix."
   ]
  },
  {
   "cell_type": "code",
   "execution_count": 43,
   "metadata": {},
   "outputs": [],
   "source": [
    "corr=df.corr()"
   ]
  },
  {
   "cell_type": "markdown",
   "metadata": {},
   "source": [
    "We can visualize the correlation matrix by plotting as a heatmap."
   ]
  },
  {
   "cell_type": "code",
   "execution_count": 44,
   "metadata": {},
   "outputs": [
    {
     "data": {
      "text/plain": [
       "<matplotlib.axes._subplots.AxesSubplot at 0xa221e5198>"
      ]
     },
     "execution_count": 44,
     "metadata": {},
     "output_type": "execute_result"
    },
    {
     "data": {
      "image/png": "[encoded data removed]",
      "text/plain": [
       "<Figure size 432x288 with 2 Axes>"
      ]
     },
     "metadata": {
      "needs_background": "light"
     },
     "output_type": "display_data"
    }
   ],
   "source": [
    "sns.heatmap(corr,xticklabels=corr.columns,yticklabels=corr.columns)"
   ]
  },
  {
   "cell_type": "markdown",
   "metadata": {},
   "source": [
    "If we sort the correlation matrix by a value, we can get a list of most to least strongly correlated to that value. Let's try that for Atomic Number."
   ]
  },
  {
   "cell_type": "code",
   "execution_count": 45,
   "metadata": {},
   "outputs": [
    {
     "name": "stdout",
     "output_type": "stream",
     "text": [
      "<class 'pandas.core.frame.DataFrame'>\n",
      "                      Atomic Number    Period     Group  Electronegativity  \\\n",
      "Atomic Number              1.000000  0.947422 -0.094545          -0.326592   \n",
      "Mass                       0.999252  0.940734 -0.098304          -0.326236   \n",
      "Period                     0.947422  1.000000 -0.282546          -0.472268   \n",
      "STP Density                0.733944  0.689639 -0.243594          -0.085571   \n",
      "Empirical Radius           0.577456  0.733646 -0.607522          -0.797854   \n",
      "Covalent Radius            0.529778  0.748821 -0.538769          -0.711684   \n",
      "Calculated Radius          0.527859  0.737283 -0.795435          -0.808470   \n",
      "Boiling Point              0.339900  0.422029 -0.456430          -0.272943   \n",
      "Brinell Hardness           0.252559  0.219047 -0.081603           0.300423   \n",
      "Heat of Vapor              0.248555  0.310231 -0.372776          -0.158459   \n",
      "Van der Waals Radius       0.201753  0.338629 -0.116141          -0.359133   \n",
      "Melting Point              0.186541  0.255026 -0.356324          -0.114302   \n",
      "Shear Modulus              0.117715  0.042021  0.096016           0.457414   \n",
      "Bulk Modulus               0.074551  0.021540  0.068067           0.311160   \n",
      "Mohs Hardness              0.061481  0.032528 -0.020865           0.308902   \n",
      "Young Modulus              0.038519 -0.010004  0.042458           0.443140   \n",
      "Electron Affinity          0.028166 -0.059499  0.420933           0.621213   \n",
      "Heat of Fusion            -0.021172 -0.018036 -0.014991           0.084569   \n",
      "Group                     -0.094545 -0.282546  1.000000           0.834931   \n",
      "Thermal Cond.             -0.163829 -0.123628 -0.027541           0.008774   \n",
      "Electronegativity         -0.326592 -0.472268  0.834931           1.000000   \n",
      "Vickers Hardness          -0.326985 -0.439476  0.348150           0.190032   \n",
      "Specific Heat             -0.404912 -0.516289 -0.068688           0.074590   \n",
      "First Ionization          -0.447031 -0.618609  0.701635           0.904673   \n",
      "Second Ionization         -0.537990 -0.655086  0.300772           0.225331   \n",
      "Third Ionization          -0.564979 -0.628953 -0.032476           0.037133   \n",
      "\n",
      "                      Calculated Radius  First Ionization  Heat of Vapor  \\\n",
      "Atomic Number                  0.527859         -0.447031       0.248555   \n",
      "Mass                           0.509889         -0.433322       0.240031   \n",
      "Period                         0.737283         -0.618609       0.310231   \n",
      "STP Density                    0.393045         -0.330371       0.644447   \n",
      "Empirical Radius               0.886835         -0.854140       0.032149   \n",
      "Covalent Radius                0.913943         -0.786749       0.164253   \n",
      "Calculated Radius              1.000000         -0.819729       0.366356   \n",
      "Boiling Point                  0.471448         -0.485084       0.968696   \n",
      "Brinell Hardness               0.019097          0.268973       0.614396   \n",
      "Heat of Vapor                  0.366356         -0.368787       1.000000   \n",
      "Van der Waals Radius           0.481068         -0.489442       0.011128   \n",
      "Melting Point                  0.380123         -0.331183       0.932411   \n",
      "Shear Modulus                 -0.162619          0.448197       0.631169   \n",
      "Bulk Modulus                  -0.080567          0.154676       0.720285   \n",
      "Mohs Hardness                 -0.117880          0.278438       0.675846   \n",
      "Young Modulus                 -0.139279          0.390072       0.666151   \n",
      "Electron Affinity             -0.311478          0.206073      -0.125014   \n",
      "Heat of Fusion                 0.022444         -0.114085       0.701553   \n",
      "Group                         -0.795435          0.701635      -0.372776   \n",
      "Thermal Cond.                  0.067610         -0.140912       0.263661   \n",
      "Electronegativity             -0.808470          0.904673      -0.158459   \n",
      "Vickers Hardness              -0.468373          0.221398       0.165386   \n",
      "Specific Heat                 -0.353643          0.353729      -0.234668   \n",
      "First Ionization              -0.819729          1.000000      -0.368787   \n",
      "Second Ionization             -0.450339          0.498408      -0.361404   \n",
      "Third Ionization              -0.304821          0.254230      -0.242540   \n",
      "\n",
      "                      Covalent Radius  Heat of Fusion  Bulk Modulus  \\\n",
      "Atomic Number                0.529778       -0.021172      0.074551   \n",
      "Mass                         0.508189       -0.022579      0.071519   \n",
      "Period                       0.748821       -0.018036      0.021540   \n",
      "STP Density                  0.269355        0.297331      0.633726   \n",
      "Empirical Radius             0.963705       -0.235344     -0.387452   \n",
      "Covalent Radius              1.000000       -0.077385     -0.202302   \n",
      "Calculated Radius            0.913943        0.022444     -0.080567   \n",
      "Boiling Point                0.253720        0.618417      0.684315   \n",
      "Brinell Hardness            -0.255257        0.695463      0.539119   \n",
      "Heat of Vapor                0.164253        0.701553      0.720285   \n",
      "Van der Waals Radius         0.616430        0.021458     -0.372292   \n",
      "Melting Point                0.140912        0.782111      0.712922   \n",
      "Shear Modulus               -0.369028        0.625359      0.830612   \n",
      "Bulk Modulus                -0.202302        0.439408      1.000000   \n",
      "Mohs Hardness               -0.422995        0.444704      0.777691   \n",
      "Young Modulus               -0.287778        0.559430      0.870020   \n",
      "Electron Affinity           -0.223459        0.072353     -0.013018   \n",
      "Heat of Fusion              -0.077385        1.000000      0.439408   \n",
      "Group                       -0.538769       -0.014991      0.068067   \n",
      "Thermal Cond.                0.157664        0.226916      0.340724   \n",
      "Electronegativity           -0.711684        0.084569      0.311160   \n",
      "Vickers Hardness            -0.552237        0.580056      0.346499   \n",
      "Specific Heat               -0.488502       -0.149040     -0.128826   \n",
      "First Ionization            -0.786749       -0.114085      0.154676   \n",
      "Second Ionization           -0.378575       -0.194666     -0.088957   \n",
      "Third Ionization            -0.256494       -0.128935     -0.031353   \n",
      "\n",
      "                            ...         Vickers Hardness  Second Ionization  \\\n",
      "Atomic Number               ...                -0.326985          -0.537990   \n",
      "Mass                        ...                -0.303453          -0.516428   \n",
      "Period                      ...                -0.439476          -0.655086   \n",
      "STP Density                 ...                -0.188442          -0.388489   \n",
      "Empirical Radius            ...                -0.480932          -0.314185   \n",
      "Covalent Radius             ...                -0.552237          -0.378575   \n",
      "Calculated Radius           ...                -0.468373          -0.450339   \n",
      "Boiling Point               ...                 0.156336          -0.451196   \n",
      "Brinell Hardness            ...                 0.873487          -0.183203   \n",
      "Heat of Vapor               ...                 0.165386          -0.361404   \n",
      "Van der Waals Radius        ...                 0.599793          -0.073197   \n",
      "Melting Point               ...                 0.178393          -0.405920   \n",
      "Shear Modulus               ...                 0.733408          -0.066625   \n",
      "Bulk Modulus                ...                 0.346499          -0.088957   \n",
      "Mohs Hardness               ...                 0.487821          -0.326421   \n",
      "Young Modulus               ...                 0.765662          -0.095595   \n",
      "Electron Affinity           ...                -0.141096           0.105192   \n",
      "Heat of Fusion              ...                 0.580056          -0.194666   \n",
      "Group                       ...                 0.348150           0.300772   \n",
      "Thermal Cond.               ...                -0.089242           0.048559   \n",
      "Electronegativity           ...                 0.190032           0.225331   \n",
      "Vickers Hardness            ...                 1.000000           0.474169   \n",
      "Specific Heat               ...                 0.373592           0.776245   \n",
      "First Ionization            ...                 0.221398           0.498408   \n",
      "Second Ionization           ...                 0.474169           1.000000   \n",
      "Third Ionization            ...                 0.079332           0.629931   \n",
      "\n",
      "                          Mass  Van der Waals Radius  Specific Heat  \\\n",
      "Atomic Number         0.999252              0.201753      -0.404912   \n",
      "Mass                  1.000000              0.193836      -0.385608   \n",
      "Period                0.940734              0.338629      -0.516289   \n",
      "STP Density           0.728795             -0.066893      -0.299570   \n",
      "Empirical Radius      0.564533              0.601898      -0.412152   \n",
      "Covalent Radius       0.508189              0.616430      -0.488502   \n",
      "Calculated Radius     0.509889              0.481068      -0.353643   \n",
      "Boiling Point         0.330383              0.085957      -0.283661   \n",
      "Brinell Hardness      0.254790             -0.223241      -0.202685   \n",
      "Heat of Vapor         0.240031              0.011128      -0.234668   \n",
      "Van der Waals Radius  0.193836              1.000000      -0.390172   \n",
      "Melting Point         0.176535             -0.042614      -0.246879   \n",
      "Shear Modulus         0.119260             -0.454612      -0.087962   \n",
      "Bulk Modulus          0.071519             -0.372292      -0.128826   \n",
      "Mohs Hardness         0.060772             -0.290591      -0.145816   \n",
      "Young Modulus         0.036044             -0.512795      -0.077227   \n",
      "Electron Affinity     0.026156             -0.016324      -0.024962   \n",
      "Heat of Fusion       -0.022579              0.021458      -0.149040   \n",
      "Group                -0.098304             -0.116141      -0.068688   \n",
      "Thermal Cond.        -0.173104             -0.079222      -0.064448   \n",
      "Electronegativity    -0.326236             -0.359133       0.074590   \n",
      "Vickers Hardness     -0.303453              0.599793       0.373592   \n",
      "Specific Heat        -0.385608             -0.390172       1.000000   \n",
      "First Ionization     -0.433322             -0.489442       0.353729   \n",
      "Second Ionization    -0.516428             -0.073197       0.776245   \n",
      "Third Ionization     -0.542634             -0.105111       0.827657   \n",
      "\n",
      "                      Thermal Cond.  Third Ionization  Electron Affinity  \\\n",
      "Atomic Number             -0.163829         -0.564979           0.028166   \n",
      "Mass                      -0.173104         -0.542634           0.026156   \n",
      "Period                    -0.123628         -0.628953          -0.059499   \n",
      "STP Density                0.187752         -0.452746           0.072651   \n",
      "Empirical Radius          -0.065687         -0.261200          -0.357391   \n",
      "Covalent Radius            0.157664         -0.256494          -0.223459   \n",
      "Calculated Radius          0.067610         -0.304821          -0.311478   \n",
      "Boiling Point              0.238425         -0.304138          -0.147271   \n",
      "Brinell Hardness           0.009515         -0.143918           0.133367   \n",
      "Heat of Vapor              0.263661         -0.242540          -0.125014   \n",
      "Van der Waals Radius      -0.079222         -0.105111          -0.016324   \n",
      "Melting Point              0.257499         -0.234555          -0.096404   \n",
      "Shear Modulus              0.210763          0.132125           0.181173   \n",
      "Bulk Modulus               0.340724         -0.031353          -0.013018   \n",
      "Mohs Hardness             -0.031389         -0.145721          -0.025077   \n",
      "Young Modulus              0.242899          0.086814           0.124928   \n",
      "Electron Affinity          0.057987         -0.017412           1.000000   \n",
      "Heat of Fusion             0.226916         -0.128935           0.072353   \n",
      "Group                     -0.027541         -0.032476           0.420933   \n",
      "Thermal Cond.              1.000000          0.271670           0.057987   \n",
      "Electronegativity          0.008774          0.037133           0.621213   \n",
      "Vickers Hardness          -0.089242          0.079332          -0.141096   \n",
      "Specific Heat             -0.064448          0.827657          -0.024962   \n",
      "First Ionization          -0.140912          0.254230           0.206073   \n",
      "Second Ionization          0.048559          0.629931           0.105192   \n",
      "Third Ionization           0.271670          1.000000          -0.017412   \n",
      "\n",
      "                      Mohs Hardness  Empirical Radius  \n",
      "Atomic Number              0.061481          0.577456  \n",
      "Mass                       0.060772          0.564533  \n",
      "Period                     0.032528          0.733646  \n",
      "STP Density                0.446907          0.185132  \n",
      "Empirical Radius          -0.478985          1.000000  \n",
      "Covalent Radius           -0.422995          0.963705  \n",
      "Calculated Radius         -0.117880          0.886835  \n",
      "Boiling Point              0.698725          0.162127  \n",
      "Brinell Hardness           0.701977         -0.342772  \n",
      "Heat of Vapor              0.675846          0.032149  \n",
      "Van der Waals Radius      -0.290591          0.601898  \n",
      "Melting Point              0.730491         -0.007691  \n",
      "Shear Modulus              0.772525         -0.544729  \n",
      "Bulk Modulus               0.777691         -0.387452  \n",
      "Mohs Hardness              1.000000         -0.478985  \n",
      "Young Modulus              0.755016         -0.472064  \n",
      "Electron Affinity         -0.025077         -0.357391  \n",
      "Heat of Fusion             0.444704         -0.235344  \n",
      "Group                     -0.020865         -0.607522  \n",
      "Thermal Cond.             -0.031389         -0.065687  \n",
      "Electronegativity          0.308902         -0.797854  \n",
      "Vickers Hardness           0.487821         -0.480932  \n",
      "Specific Heat             -0.145816         -0.412152  \n",
      "First Ionization           0.278438         -0.854140  \n",
      "Second Ionization         -0.326421         -0.314185  \n",
      "Third Ionization          -0.145721         -0.261200  \n",
      "\n",
      "[26 rows x 26 columns]\n"
     ]
    },
    {
     "data": {
      "text/plain": [
       "['Atomic Number',\n",
       " 'Mass',\n",
       " 'Period',\n",
       " 'STP Density',\n",
       " 'Empirical Radius',\n",
       " 'Covalent Radius',\n",
       " 'Calculated Radius',\n",
       " 'Boiling Point',\n",
       " 'Brinell Hardness',\n",
       " 'Heat of Vapor',\n",
       " 'Van der Waals Radius',\n",
       " 'Melting Point',\n",
       " 'Shear Modulus',\n",
       " 'Bulk Modulus',\n",
       " 'Mohs Hardness',\n",
       " 'Young Modulus',\n",
       " 'Electron Affinity',\n",
       " 'Heat of Fusion',\n",
       " 'Group',\n",
       " 'Thermal Cond.',\n",
       " 'Electronegativity',\n",
       " 'Vickers Hardness',\n",
       " 'Specific Heat',\n",
       " 'First Ionization',\n",
       " 'Second Ionization',\n",
       " 'Third Ionization']"
      ]
     },
     "execution_count": 45,
     "metadata": {},
     "output_type": "execute_result"
    }
   ],
   "source": [
    "print(type(df.corr()))\n",
    "corr_sort_AtomicNumber=df.corr().sort_values('Atomic Number', ascending=False).index\n",
    "# print(df.corr())\n",
    "res_atomic_number=df.corr().sort_values('Atomic Number', ascending=False)\n",
    "print(res_atomic_number)\n",
    "# print(df.corr().sort_values(by=['Atomic Number'], ascending=False))\n",
    "list(corr_sort_AtomicNumber)"
   ]
  },
  {
   "cell_type": "markdown",
   "metadata": {},
   "source": [
    "Ignoring the first value (itself), the value most strongly correlated with Atomic Number is Mass. Let's compare those. The seaborn function `lmplot` will combine a plot with a linear model. "
   ]
  },
  {
   "cell_type": "code",
   "execution_count": 46,
   "metadata": {},
   "outputs": [
    {
     "data": {
      "text/plain": [
       "<seaborn.axisgrid.FacetGrid at 0xa225d37b8>"
      ]
     },
     "execution_count": 46,
     "metadata": {},
     "output_type": "execute_result"
    },
    {
     "data": {
      "image/png": "[encoded data removed]",
      "text/plain": [
       "<Figure size 360x360 with 1 Axes>"
      ]
     },
     "metadata": {
      "needs_background": "light"
     },
     "output_type": "display_data"
    }
   ],
   "source": [
    "sns.lmplot(x='Atomic Number',y='Mass',data=df)"
   ]
  },
  {
   "cell_type": "markdown",
   "metadata": {},
   "source": [
    "This relationship is nearly linear. We should have expected this result, because a larger atomic number means more protons, which means more mass."
   ]
  },
  {
   "cell_type": "markdown",
   "metadata": {},
   "source": [
    "## Assignment"
   ]
  },
  {
   "cell_type": "markdown",
   "metadata": {},
   "source": [
    "What other relations are there? Explore this dataset by plotting other correlations. For example, there are two hardness values (Brinell and Vickers); how are these correlated? How are they related to properties like Young's modulus or melting point? What trends go across groups or down periods of the periodic table?\n",
    "\n",
    "You don't have to answer the above questions, but your assignment is as follows:\n",
    " - Find a correlation based on a different entry (i.e., not Atomic Number)\n",
    " - Plot the correlation (facet or group into subplots as necessary).\n",
    " - Explain the reason behind the relation you've found."
   ]
  },
  {
   "cell_type": "markdown",
   "metadata": {},
   "source": [
    "## 1. Find a correlation based on a different entry (i.e., not Atomic Number)"
   ]
  },
  {
   "cell_type": "code",
   "execution_count": 58,
   "metadata": {},
   "outputs": [
    {
     "data": {
      "text/plain": [
       "['Young Modulus',\n",
       " 'Shear Modulus',\n",
       " 'Bulk Modulus',\n",
       " 'Vickers Hardness',\n",
       " 'Mohs Hardness',\n",
       " 'Melting Point',\n",
       " 'Brinell Hardness',\n",
       " 'Heat of Vapor',\n",
       " 'Boiling Point',\n",
       " 'STP Density',\n",
       " 'Heat of Fusion',\n",
       " 'Electronegativity',\n",
       " 'First Ionization',\n",
       " 'Thermal Cond.',\n",
       " 'Electron Affinity',\n",
       " 'Third Ionization',\n",
       " 'Group',\n",
       " 'Atomic Number',\n",
       " 'Mass',\n",
       " 'Period',\n",
       " 'Specific Heat',\n",
       " 'Second Ionization',\n",
       " 'Calculated Radius',\n",
       " 'Covalent Radius',\n",
       " 'Empirical Radius',\n",
       " 'Van der Waals Radius']"
      ]
     },
     "execution_count": 58,
     "metadata": {},
     "output_type": "execute_result"
    }
   ],
   "source": [
    "corr_sort_Brinell_hardness=df.corr().sort_values('Young Modulus', ascending=False).index\n",
    "list(corr_sort_Brinell_hardness)"
   ]
  },
  {
   "cell_type": "markdown",
   "metadata": {},
   "source": [
    "## 2.Plot the correlation (facet or group into subplots as necessary)."
   ]
  },
  {
   "cell_type": "code",
   "execution_count": 59,
   "metadata": {},
   "outputs": [
    {
     "data": {
      "text/plain": [
       "<seaborn.axisgrid.FacetGrid at 0xa22bb1940>"
      ]
     },
     "execution_count": 59,
     "metadata": {},
     "output_type": "execute_result"
    },
    {
     "data": {
      "image/png": "[encoded data removed]",
      "text/plain": [
       "<Figure size 360x360 with 1 Axes>"
      ]
     },
     "metadata": {
      "needs_background": "light"
     },
     "output_type": "display_data"
    }
   ],
   "source": [
    "sns.lmplot(x='Young Modulus',y='Shear Modulus',data=df)"
   ]
  },
  {
   "cell_type": "markdown",
   "metadata": {},
   "source": [
    "## 3. Explain the reason behind the relation you've found."
   ]
  },
  {
   "cell_type": "markdown",
   "metadata": {},
   "source": [
    "Young modulus(E) is a mechanical property that measures the stiffness of a solid material. It defines the relationship between stress (force per unit area) and strain (proportional deformation) in a material in the linear elasticity regime of a uniaxial deformation.\n",
    "\n",
    "Shear modulus(G) describes the material's response to shear stress.\n",
    "\n",
    "For homogeneous isotropic materials, there is a relationship: E = 2G(1+v), in which the v represents the poisson ratio. So the Sheat modulus is direct proportional to Young modulus for isotropic materials. The ourliers would be the data of inisotropic materials."
   ]
  }
 ],
 "metadata": {
  "kernelspec": {
   "display_name": "Python 3",
   "language": "python",
   "name": "python3"
  },
  "language_info": {
   "codemirror_mode": {
    "name": "ipython",
    "version": 3
   },
   "file_extension": ".py",
   "mimetype": "text/x-python",
   "name": "python",
   "nbconvert_exporter": "python",
   "pygments_lexer": "ipython3",
   "version": "3.6.5"
  }
 },
 "nbformat": 4,
 "nbformat_minor": 2
}
